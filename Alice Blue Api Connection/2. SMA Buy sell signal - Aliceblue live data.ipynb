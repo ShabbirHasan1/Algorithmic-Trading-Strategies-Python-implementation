{
 "cells": [
  {
   "cell_type": "markdown",
   "metadata": {},
   "source": [
    "    For Infosys, Live buy sell signals generated \n",
    "    based on 5-20 SMA cross-over"
   ]
  },
  {
   "cell_type": "markdown",
   "metadata": {},
   "source": [
    "    My respect towrds - krishnavelu@aliceblue - for this program and\n",
    "    implementing aliceblue library in a very simple manner. \n",
    "    \n",
    "    And special thanks to Aliceblue, for providing this API in free of cost. "
   ]
  },
  {
   "cell_type": "code",
   "execution_count": 1,
   "metadata": {},
   "outputs": [],
   "source": [
    "# importing packages           \n",
    "import logging\n",
    "import datetime\n",
    "import statistics\n",
    "from time import sleep\n",
    "import account_details    # this contains username, password, api details\n",
    "from alice_blue import *"
   ]
  },
  {
   "cell_type": "code",
   "execution_count": null,
   "metadata": {},
   "outputs": [],
   "source": [
    "# Config - Username, password, API details loaded from account_details file\n",
    "username = account_details.usr_name\n",
    "password = account_details.pwd\n",
    "app_id = account_details.app_id\n",
    "api_secret = account_details.api_scrt\n",
    "twoFA = account_details.tfa\n",
    "EMA_CROSS_SCRIP = 'INFY'\n",
    "logging.basicConfig(level=logging.DEBUG)        # Optional for getting debug messages.\n",
    "# Config"
   ]
  },
  {
   "cell_type": "code",
   "execution_count": null,
   "metadata": {},
   "outputs": [],
   "source": [
    "ltp = 0\n",
    "socket_opened = False\n",
    "alice = None\n",
    "def event_handler_quote_update(message):\n",
    "    global ltp\n",
    "    ltp = message['ltp']"
   ]
  },
  {
   "cell_type": "code",
   "execution_count": null,
   "metadata": {},
   "outputs": [],
   "source": [
    "def open_callback():\n",
    "    global socket_opened\n",
    "    socket_opened = True"
   ]
  },
  {
   "cell_type": "code",
   "execution_count": null,
   "metadata": {},
   "outputs": [],
   "source": [
    "# Buy order \n",
    "def buy_signal(ins_scrip):\n",
    "    global alice\n",
    "    alice.place_order(transaction_type = TransactionType.Buy,\n",
    "                         instrument = ins_scrip,\n",
    "                         quantity = 1,\n",
    "                         order_type = OrderType.Market,\n",
    "                         product_type = ProductType.Intraday,\n",
    "                         price = 0.0,\n",
    "                         trigger_price = None,\n",
    "                         stop_loss = None,\n",
    "                         square_off = None,\n",
    "                         trailing_sl = None,\n",
    "                         is_amo = False)"
   ]
  },
  {
   "cell_type": "code",
   "execution_count": null,
   "metadata": {},
   "outputs": [],
   "source": [
    "# Sell order\n",
    "def sell_signal(ins_scrip):\n",
    "    global alice\n",
    "    alice.place_order(transaction_type = TransactionType.Sell,\n",
    "                         instrument = ins_scrip,\n",
    "                         quantity = 1,\n",
    "                         order_type = OrderType.Market,\n",
    "                         product_type = ProductType.Intraday,\n",
    "                         price = 0.0,\n",
    "                         trigger_price = None,\n",
    "                         stop_loss = None,\n",
    "                         square_off = None,\n",
    "                         trailing_sl = None,\n",
    "                         is_amo = False)"
   ]
  },
  {
   "cell_type": "code",
   "execution_count": null,
   "metadata": {},
   "outputs": [],
   "source": [
    "def main():\n",
    "    global socket_opened\n",
    "    global alice\n",
    "    global username\n",
    "    global password\n",
    "    global twoFA\n",
    "    global api_secret\n",
    "    global EMA_CROSS_SCRIP\n",
    "    \n",
    "    minute_close = []\n",
    "    \n",
    "    # Access token is fetched from aliceblue\n",
    "    access_token =  AliceBlue.login_and_get_access_token(username=username, password=password, twoFA=twoFA,  \n",
    "                                                         api_secret=api_secret, app_id = app_id)\n",
    "    # alice object is created\n",
    "    alice = AliceBlue(username=username, password=password, access_token=access_token, \n",
    "                      master_contracts_to_download=['NSE'])\n",
    "    \n",
    "    \n",
    "    print('User Profile: ', alice.get_profile()) # get profile\n",
    "    print('User Balance: ', alice.get_balance()) # get balance / margin limits\n",
    "    # print(alice.get_daywise_positions()) # get daywise positions\n",
    "    # print(alice.get_netwise_positions()) # get netwise positions\n",
    "    # print(alice.get_holding_positions()) # get holding positions\n",
    "    \n",
    "    ins_scrip = alice.get_instrument_by_symbol('NSE', EMA_CROSS_SCRIP)\n",
    "    \n",
    "    # Open the socket\n",
    "    socket_opened = False\n",
    "    alice.start_websocket(subscribe_callback=event_handler_quote_update,\n",
    "                          socket_open_callback=open_callback,\n",
    "                          run_in_background=True)\n",
    "    \n",
    "    while(socket_opened==False):    # wait till socket open & then subscribe\n",
    "        pass\n",
    "    alice.subscribe(ins_scrip, LiveFeedType.COMPACT)  # instrument is subscribed\n",
    "    \n",
    "    # Each minute data is recorded here.\n",
    "    # Logic for buy - if SMA5 > SMA20\n",
    "    # Logic for Sell - if SMA20 > SMA5\n",
    "    # Sleep() is used program will not letgo in between\n",
    "    current_signal = ''\n",
    "    while True:\n",
    "        if(datetime.datetime.now().second == 0):   # recorded data in each minute\n",
    "            minute_close.append(ltp)\n",
    "            print('Minute data: ', ltp)\n",
    "            if(len(minute_close) > 20):\n",
    "                sma_5 = statistics.mean(minute_close[-5:])\n",
    "                sma_20 = statistics.mean(minute_close[-20:])\n",
    "                if(current_signal != 'buy'):\n",
    "                    # if(sma_5 > sma_20):\n",
    "                    #     buy_signal(ins_scrip)\n",
    "                    current_signal = 'buy'\n",
    "                    print('Buy')\n",
    "                if(current_signal != 'sell'):\n",
    "                    # if(sma_5 < sma_20):\n",
    "                    #     sell_signal(ins_scrip)\n",
    "                    current_signal = 'sell'\n",
    "                    print('Sell')\n",
    "            sleep(1)\n",
    "        sleep(0.2)  # sleep for 200ms"
   ]
  },
  {
   "cell_type": "code",
   "execution_count": null,
   "metadata": {},
   "outputs": [],
   "source": [
    "if(__name__ == '__main__'):\n",
    "    main()"
   ]
  },
  {
   "cell_type": "code",
   "execution_count": null,
   "metadata": {},
   "outputs": [],
   "source": []
  },
  {
   "cell_type": "code",
   "execution_count": null,
   "metadata": {},
   "outputs": [],
   "source": []
  },
  {
   "cell_type": "code",
   "execution_count": null,
   "metadata": {},
   "outputs": [],
   "source": []
  },
  {
   "cell_type": "code",
   "execution_count": null,
   "metadata": {},
   "outputs": [],
   "source": []
  },
  {
   "cell_type": "code",
   "execution_count": null,
   "metadata": {},
   "outputs": [],
   "source": []
  },
  {
   "cell_type": "code",
   "execution_count": null,
   "metadata": {},
   "outputs": [],
   "source": []
  }
 ],
 "metadata": {
  "kernelspec": {
   "display_name": "Python 3",
   "language": "python",
   "name": "python3"
  },
  "language_info": {
   "codemirror_mode": {
    "name": "ipython",
    "version": 3
   },
   "file_extension": ".py",
   "mimetype": "text/x-python",
   "name": "python",
   "nbconvert_exporter": "python",
   "pygments_lexer": "ipython3",
   "version": "3.6.9"
  }
 },
 "nbformat": 4,
 "nbformat_minor": 2
}
