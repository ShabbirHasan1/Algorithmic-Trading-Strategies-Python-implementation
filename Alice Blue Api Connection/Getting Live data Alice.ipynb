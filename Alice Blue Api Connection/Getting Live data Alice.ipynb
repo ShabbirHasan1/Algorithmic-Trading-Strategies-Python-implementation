{
 "cells": [
  {
   "cell_type": "code",
   "execution_count": 1,
   "metadata": {},
   "outputs": [],
   "source": [
    "from alice_blue import *\n",
    "import time\n",
    "import pandas as pd\n",
    "import numpy as np\n",
    "import datetime\n",
    "import account_details"
   ]
  },
  {
   "cell_type": "code",
   "execution_count": 3,
   "metadata": {},
   "outputs": [],
   "source": [
    "usr_name = account_details.usr_name\n",
    "pwd = account_details.pwd\n",
    "tfa = account_details.tfa\n",
    "app_id = account_details.app_id\n",
    "api_scrt = account_details.api_scrt\n",
    "\n",
    "# redirect url = 'https://ant.aliceblueonline.com/plugin/callback'"
   ]
  },
  {
   "cell_type": "code",
   "execution_count": 4,
   "metadata": {},
   "outputs": [
    {
     "name": "stdout",
     "output_type": "stream",
     "text": [
      "5OoOVGxCzVavNyaDE-8nuFRo5tZAmE97CAL0pU8jiwo.T30FtUHnQOD2Uz84sDR3Vy_sLLYMMgHNhP_yrbbK3lU\n"
     ]
    }
   ],
   "source": [
    "access_token = AliceBlue.login_and_get_access_token(username= usr_name, password= pwd, twoFA=tfa, \n",
    "                                                    api_secret=api_scrt, app_id = app_id)\n",
    "print(access_token)"
   ]
  },
  {
   "cell_type": "code",
   "execution_count": 5,
   "metadata": {},
   "outputs": [],
   "source": [
    "alice = AliceBlue(username=usr_name, password=pwd, access_token=access_token)"
   ]
  },
  {
   "cell_type": "code",
   "execution_count": 6,
   "metadata": {},
   "outputs": [
    {
     "name": "stdout",
     "output_type": "stream",
     "text": [
      "Available balance:  208.38\n"
     ]
    }
   ],
   "source": [
    "# get balance\n",
    "print('Available balance: ', alice.get_balance()['data']['cash_positions'][0]['available']['cashmarginavailable'])"
   ]
  },
  {
   "cell_type": "code",
   "execution_count": 6,
   "metadata": {},
   "outputs": [],
   "source": [
    "# df_reliance = pd.DataFrame(columns=['timestamp', 'ltp', 'volume'])\n",
    "# timestamp = []\n",
    "# ltp = []\n",
    "# volume = []\n",
    "\n",
    "df_reliance = pd.DataFrame(columns=['timestamp', 'ltp', 'volume'])\n",
    "timestamp_reliance = []\n",
    "ltp_reliance = []\n",
    "volume_reliance = []\n",
    "\n",
    "df_hdfcbank = pd.DataFrame(columns=['timestamp', 'ltp', 'volume'])\n",
    "timestamp_hdfcbank = []\n",
    "ltp_hdfcbank = []\n",
    "volume_hdfcbank = []"
   ]
  },
  {
   "cell_type": "code",
   "execution_count": 7,
   "metadata": {
    "scrolled": true
   },
   "outputs": [],
   "source": [
    "socket_opened = False\n",
    "# ltp = []\n",
    "def event_handler_quote_update(message):\n",
    "#     print(f\"quote update {message}\")\n",
    "#     print('time: ', datetime.datetime.fromtimestamp(message['exchange_time_stamp']).strftime('%Y-%m-%d %H:%M:%S'))\n",
    "#     print('price: ', message['ltp'])\n",
    "\n",
    "    if message['instrument'].symbol == 'RELIANCE':  \n",
    "        # save data\n",
    "        timestamp_reliance.append(datetime.datetime.fromtimestamp(message['exchange_time_stamp']).strftime('%Y-%m-%d %H:%M:%S'))\n",
    "        ltp_reliance.append(message['ltp'])\n",
    "        volume_reliance.append(message['volume'])\n",
    "        \n",
    "#         print('Reliance data: ')\n",
    "#         print('LTP: ', message['ltp'])\n",
    "#         print('Volume: ', message['volume'])\n",
    "        \n",
    "    if message['instrument'].symbol == 'HDFCBANK':  \n",
    "        # save data\n",
    "        timestamp_hdfcbank.append(datetime.datetime.fromtimestamp(message['exchange_time_stamp']).strftime('%Y-%m-%d %H:%M:%S'))\n",
    "        ltp_hdfcbank.append(message['ltp'])\n",
    "        volume_hdfcbank.append(message['volume'])\n",
    "        \n",
    "#         print('HDFC Bank data: ')\n",
    "#         print('LTP: ', message['ltp'])\n",
    "#         print('Volume: ', message['volume'])\n",
    "\n",
    "    \n",
    "\n",
    "def open_callback():\n",
    "    global socket_opened\n",
    "    socket_opened = True\n",
    "\n",
    "alice.start_websocket(subscribe_callback=event_handler_quote_update,\n",
    "                      socket_open_callback=open_callback,\n",
    "                      run_in_background=True)\n",
    "while(socket_opened==False):\n",
    "    pass\n",
    "\n",
    "# alice.subscribe(alice.get_instrument_by_symbol('NSE', 'RELIANCE'), LiveFeedType.MARKET_DATA)\n",
    "# alice.subscribe(alice.get_instrument_by_symbol('NSE', 'Nifty Bank'), LiveFeedType.COMPACT)\n",
    "# alice.subscribe(alice.get_instrument_by_symbol('NSE', 'RELIANCE'), LiveFeedType.COMPACT)\n",
    "instrument = [alice.get_instrument_by_symbol('NSE', 'RELIANCE'), \n",
    "              alice.get_instrument_by_symbol('NSE', 'HDFCBANK')]\n",
    "\n",
    "alice.subscribe(instrument, LiveFeedType.MARKET_DATA)\n"
   ]
  },
  {
   "cell_type": "code",
   "execution_count": 8,
   "metadata": {
    "scrolled": true
   },
   "outputs": [],
   "source": [
    "# while True:\n",
    "#     if ((len(ltp) % 60) == 0):\n",
    "#         df_reliance['timestamp'] = timestamp\n",
    "#         df_reliance['ltp'] = ltp\n",
    "#         df_reliance['volume'] = volume\n",
    "#         df_reliance.to_csv('Reliance_24_march.csv', index=False)\n",
    "#         print('Data saved')\n",
    "#         print('Amount of data saved: ', len(ltp))"
   ]
  },
  {
   "cell_type": "code",
   "execution_count": null,
   "metadata": {
    "scrolled": true
   },
   "outputs": [
    {
     "name": "stdout",
     "output_type": "stream",
     "text": [
      "Data saved\n",
      "Amount of data saved:  30\n",
      "Data saved\n",
      "Amount of data saved:  30\n",
      "Data saved\n",
      "Amount of data saved:  89\n",
      "Data saved\n",
      "Amount of data saved:  90\n"
     ]
    }
   ],
   "source": [
    "from time import sleep\n",
    "while(True):\n",
    "    df_reliance = pd.DataFrame(columns=['timestamp', 'ltp', 'volume'])\n",
    "    df_reliance['timestamp'] = timestamp_reliance\n",
    "    df_reliance['ltp'] = ltp_reliance\n",
    "    df_reliance['volume'] = volume_reliance\n",
    "    df_reliance.to_csv('./Tick_data/Reliance_08_April.csv', index=False)\n",
    "    print('Data saved')\n",
    "    print('Amount of data saved: ', len(ltp_reliance))\n",
    "    \n",
    "    df_hdfcbank = pd.DataFrame(columns=['timestamp', 'ltp', 'volume'])\n",
    "    df_hdfcbank['timestamp'] = timestamp_hdfcbank\n",
    "    df_hdfcbank['ltp'] = ltp_hdfcbank\n",
    "    df_hdfcbank['volume'] = volume_hdfcbank\n",
    "    df_hdfcbank.to_csv('./Tick_data/Hdfcbank_08_April.csv', index = False)\n",
    "    print('Data saved')\n",
    "    print('Amount of data saved: ', len(ltp_hdfcbank))\n",
    "    sleep(60)"
   ]
  },
  {
   "cell_type": "code",
   "execution_count": 13,
   "metadata": {
    "scrolled": true
   },
   "outputs": [],
   "source": [
    "# alice.unsubscribe(alice.get_instrument_by_symbol('NSE', 'Nifty Bank'), LiveFeedType.MARKET_DATA)"
   ]
  },
  {
   "cell_type": "code",
   "execution_count": 14,
   "metadata": {},
   "outputs": [],
   "source": [
    "# alice.subscribe([alice.get_instrument_by_symbol('NSE', 'TATASTEEL'), alice.get_instrument_by_symbol('NSE', 'RELIANCE')], LiveFeedType.MARKET_DATA)"
   ]
  },
  {
   "cell_type": "code",
   "execution_count": null,
   "metadata": {},
   "outputs": [],
   "source": []
  },
  {
   "cell_type": "code",
   "execution_count": null,
   "metadata": {},
   "outputs": [],
   "source": []
  },
  {
   "cell_type": "code",
   "execution_count": null,
   "metadata": {},
   "outputs": [],
   "source": []
  },
  {
   "cell_type": "code",
   "execution_count": null,
   "metadata": {},
   "outputs": [],
   "source": []
  }
 ],
 "metadata": {
  "kernelspec": {
   "display_name": "Python 3",
   "language": "python",
   "name": "python3"
  },
  "language_info": {
   "codemirror_mode": {
    "name": "ipython",
    "version": 3
   },
   "file_extension": ".py",
   "mimetype": "text/x-python",
   "name": "python",
   "nbconvert_exporter": "python",
   "pygments_lexer": "ipython3",
   "version": "3.6.9"
  }
 },
 "nbformat": 4,
 "nbformat_minor": 2
}
