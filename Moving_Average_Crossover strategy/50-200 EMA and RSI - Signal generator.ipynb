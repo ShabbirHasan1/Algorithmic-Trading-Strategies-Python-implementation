{
 "cells": [
  {
   "cell_type": "markdown",
   "metadata": {},
   "source": [
    "    Run this program every morning to get Buy and Sell signal\n",
    "    Based on Moving average and RSI value"
   ]
  },
  {
   "cell_type": "code",
   "execution_count": 1,
   "metadata": {},
   "outputs": [],
   "source": [
    "from nsepy import get_history\n",
    "import datetime\n",
    "import talib"
   ]
  },
  {
   "cell_type": "code",
   "execution_count": 2,
   "metadata": {},
   "outputs": [
    {
     "name": "stdout",
     "output_type": "stream",
     "text": [
      "Number of stocks in watchlist:  50\n"
     ]
    }
   ],
   "source": [
    "# Include Nifty50 stocks to watchlist\n",
    "watchlist = ['ADANIPORTS', 'ASIANPAINT', 'AXISBANK', 'BAJAJ-AUTO', \n",
    "             'BAJFINANCE', 'BAJAJFINSV', 'BPCL', 'BHARTIARTL', \n",
    "             'BRITANNIA', 'CIPLA', 'COALINDIA', 'DIVISLAB', \n",
    "             'DRREDDY', 'EICHERMOT', 'GAIL', 'GRASIM', \n",
    "             'HCLTECH', 'HDFCBANK', 'HDFCLIFE', 'HEROMOTOCO', \n",
    "             'HINDALCO', 'HINDUNILVR', 'HDFC', 'ICICIBANK', \n",
    "             'ITC', 'IOC', 'INDUSINDBK', 'INFY', 'JSWSTEEL', \n",
    "             'KOTAKBANK', 'LT', 'M&M', 'MARUTI', 'NTPC', \n",
    "             'NESTLEIND', 'ONGC', 'POWERGRID', 'RELIANCE', \n",
    "             'SBILIFE', 'SHREECEM', 'SBIN', 'SUNPHARMA', \n",
    "             'TCS', 'TATAMOTORS', 'TATASTEEL', 'TECHM', \n",
    "             'TITAN', 'UPL', 'ULTRACEMCO', 'WIPRO']\n",
    "print('Number of stocks in watchlist: ', len(watchlist))"
   ]
  },
  {
   "cell_type": "markdown",
   "metadata": {},
   "source": [
    "       ## Buy Logic\n",
    "       --------------------\n",
    "       When MA-50 > MA-200 and RSI above 60\n",
    "       \n",
    "       ## Sell Logic\n",
    "       --------------------\n",
    "       When MA-50 < MA-200 and RSI below 40"
   ]
  },
  {
   "cell_type": "markdown",
   "metadata": {},
   "source": [
    "    We can change MA and RSI values according to our requirement"
   ]
  },
  {
   "cell_type": "code",
   "execution_count": 3,
   "metadata": {},
   "outputs": [],
   "source": [
    "short_ema = 50\n",
    "long_ema = 200\n",
    "\n",
    "# Find yesterday date\n",
    "today_date = datetime.date.today()\n",
    "yesterday_date = today_date - datetime.timedelta(days = 1)\n",
    "\n",
    "# date format in YYYY,MM,DD\n",
    "start_date = datetime.date(2020,1,1)\n",
    "end_date = yesterday_date"
   ]
  },
  {
   "cell_type": "code",
   "execution_count": 4,
   "metadata": {},
   "outputs": [
    {
     "name": "stdout",
     "output_type": "stream",
     "text": [
      "Buy signal in  ASIANPAINT\n",
      "Buy signal in  BAJFINANCE\n",
      "Buy signal in  BPCL\n",
      "Buy signal in  BRITANNIA\n",
      "Buy signal in  DIVISLAB\n",
      "Buy signal in  DRREDDY\n",
      "Buy signal in  HCLTECH\n",
      "Buy signal in  HDFCLIFE\n",
      "Buy signal in  IOC\n",
      "Buy signal in  INFY\n",
      "Buy signal in  NTPC\n",
      "Buy signal in  NESTLEIND\n",
      "Buy signal in  ONGC\n",
      "Buy signal in  POWERGRID\n",
      "Buy signal in  RELIANCE\n",
      "Buy signal in  SBIN\n",
      "Buy signal in  TCS\n",
      "Buy signal in  TATAMOTORS\n",
      "Buy signal in  TECHM\n",
      "Buy signal in  TITAN\n",
      "Buy signal in  UPL\n",
      "Buy signal in  WIPRO\n"
     ]
    }
   ],
   "source": [
    "for name in watchlist[:]:\n",
    "\n",
    "    df = get_history(symbol=name, start=start_date, end=yesterday_date)  # fetch data for specified date\n",
    "    df['ma50'] = talib.EMA(df['Close'], timeperiod=short_ema)\n",
    "    df['ma200'] = talib.EMA(df['Close'], timeperiod=long_ema)\n",
    "    df['rsi14'] = talib.RSI(df['Close'], timeperiod=14)\n",
    "\n",
    "    last_candle = df.iloc[-1]\n",
    "#     print((last_candle))\n",
    "\n",
    "    # buy signal\n",
    "    if (last_candle['ma50'] > last_candle['ma200']) and (last_candle['rsi14'] > 60):\n",
    "        print(\"Buy signal in \", name)\n",
    "\n",
    "    # sell signal\n",
    "    if (last_candle['ma50'] < last_candle['ma200']) and (last_candle['rsi14'] < 40):\n",
    "        print(\"sell signal in \", name)\n",
    "\n"
   ]
  },
  {
   "cell_type": "code",
   "execution_count": 23,
   "metadata": {},
   "outputs": [],
   "source": [
    "# df.head(10)"
   ]
  },
  {
   "cell_type": "code",
   "execution_count": 36,
   "metadata": {},
   "outputs": [],
   "source": [
    "# We can also findout, for a particular stock, when was the crossover happened. \n",
    "# i.e. on which date this strategy actually generated the buy or sell signal"
   ]
  },
  {
   "cell_type": "code",
   "execution_count": null,
   "metadata": {},
   "outputs": [],
   "source": [
    "# we can also mantain our buy and sell histroy, so that, we can introduce our hold position"
   ]
  },
  {
   "cell_type": "code",
   "execution_count": null,
   "metadata": {},
   "outputs": [],
   "source": []
  },
  {
   "cell_type": "code",
   "execution_count": null,
   "metadata": {},
   "outputs": [],
   "source": []
  },
  {
   "cell_type": "code",
   "execution_count": null,
   "metadata": {},
   "outputs": [],
   "source": []
  },
  {
   "cell_type": "code",
   "execution_count": null,
   "metadata": {},
   "outputs": [],
   "source": []
  },
  {
   "cell_type": "code",
   "execution_count": null,
   "metadata": {},
   "outputs": [],
   "source": []
  },
  {
   "cell_type": "code",
   "execution_count": null,
   "metadata": {},
   "outputs": [],
   "source": []
  },
  {
   "cell_type": "code",
   "execution_count": null,
   "metadata": {},
   "outputs": [],
   "source": []
  },
  {
   "cell_type": "code",
   "execution_count": null,
   "metadata": {},
   "outputs": [],
   "source": []
  },
  {
   "cell_type": "code",
   "execution_count": null,
   "metadata": {},
   "outputs": [],
   "source": []
  },
  {
   "cell_type": "code",
   "execution_count": null,
   "metadata": {},
   "outputs": [],
   "source": []
  }
 ],
 "metadata": {
  "kernelspec": {
   "display_name": "Python 3",
   "language": "python",
   "name": "python3"
  },
  "language_info": {
   "codemirror_mode": {
    "name": "ipython",
    "version": 3
   },
   "file_extension": ".py",
   "mimetype": "text/x-python",
   "name": "python",
   "nbconvert_exporter": "python",
   "pygments_lexer": "ipython3",
   "version": "3.6.9"
  }
 },
 "nbformat": 4,
 "nbformat_minor": 4
}
