{
 "cells": [
  {
   "cell_type": "markdown",
   "metadata": {},
   "source": [
    "    Here seconds tick data is converted to per minute OHLC"
   ]
  },
  {
   "cell_type": "code",
   "execution_count": 125,
   "metadata": {},
   "outputs": [],
   "source": [
    "import pandas as pd\n",
    "import numpy as np\n",
    "from datetime import date"
   ]
  },
  {
   "cell_type": "code",
   "execution_count": 126,
   "metadata": {
    "scrolled": true
   },
   "outputs": [
    {
     "data": {
      "text/html": [
       "<div>\n",
       "<style scoped>\n",
       "    .dataframe tbody tr th:only-of-type {\n",
       "        vertical-align: middle;\n",
       "    }\n",
       "\n",
       "    .dataframe tbody tr th {\n",
       "        vertical-align: top;\n",
       "    }\n",
       "\n",
       "    .dataframe thead th {\n",
       "        text-align: right;\n",
       "    }\n",
       "</style>\n",
       "<table border=\"1\" class=\"dataframe\">\n",
       "  <thead>\n",
       "    <tr style=\"text-align: right;\">\n",
       "      <th></th>\n",
       "      <th>timestamp</th>\n",
       "      <th>ltp</th>\n",
       "      <th>volume</th>\n",
       "    </tr>\n",
       "  </thead>\n",
       "  <tbody>\n",
       "    <tr>\n",
       "      <th>0</th>\n",
       "      <td>2021-03-26 09:15:49</td>\n",
       "      <td>14487.70</td>\n",
       "      <td>0</td>\n",
       "    </tr>\n",
       "    <tr>\n",
       "      <th>1</th>\n",
       "      <td>2021-03-26 09:15:50</td>\n",
       "      <td>14489.60</td>\n",
       "      <td>0</td>\n",
       "    </tr>\n",
       "    <tr>\n",
       "      <th>2</th>\n",
       "      <td>2021-03-26 09:15:51</td>\n",
       "      <td>14490.35</td>\n",
       "      <td>0</td>\n",
       "    </tr>\n",
       "    <tr>\n",
       "      <th>3</th>\n",
       "      <td>2021-03-26 09:15:52</td>\n",
       "      <td>14492.20</td>\n",
       "      <td>0</td>\n",
       "    </tr>\n",
       "    <tr>\n",
       "      <th>4</th>\n",
       "      <td>2021-03-26 09:15:53</td>\n",
       "      <td>14493.95</td>\n",
       "      <td>0</td>\n",
       "    </tr>\n",
       "  </tbody>\n",
       "</table>\n",
       "</div>"
      ],
      "text/plain": [
       "             timestamp       ltp  volume\n",
       "0  2021-03-26 09:15:49  14487.70       0\n",
       "1  2021-03-26 09:15:50  14489.60       0\n",
       "2  2021-03-26 09:15:51  14490.35       0\n",
       "3  2021-03-26 09:15:52  14492.20       0\n",
       "4  2021-03-26 09:15:53  14493.95       0"
      ]
     },
     "execution_count": 126,
     "metadata": {},
     "output_type": "execute_result"
    }
   ],
   "source": [
    "# Here I have kept tick data in the dataframe\n",
    "path = '/home/debashis/Data/Finance_Data/Live_data_work/scripts/Tick_data3/'\n",
    "df_nifty_bank = pd.read_csv(path+'Nifty_26_march.csv', low_memory=False)\n",
    "df_nifty_bank.head()"
   ]
  },
  {
   "cell_type": "code",
   "execution_count": 127,
   "metadata": {},
   "outputs": [
    {
     "data": {
      "text/html": [
       "<div>\n",
       "<style scoped>\n",
       "    .dataframe tbody tr th:only-of-type {\n",
       "        vertical-align: middle;\n",
       "    }\n",
       "\n",
       "    .dataframe tbody tr th {\n",
       "        vertical-align: top;\n",
       "    }\n",
       "\n",
       "    .dataframe thead th {\n",
       "        text-align: right;\n",
       "    }\n",
       "</style>\n",
       "<table border=\"1\" class=\"dataframe\">\n",
       "  <thead>\n",
       "    <tr style=\"text-align: right;\">\n",
       "      <th></th>\n",
       "      <th>timestamp</th>\n",
       "      <th>ltp</th>\n",
       "      <th>volume</th>\n",
       "    </tr>\n",
       "  </thead>\n",
       "  <tbody>\n",
       "    <tr>\n",
       "      <th>0</th>\n",
       "      <td>2021-03-26 09:15:49</td>\n",
       "      <td>14487.70</td>\n",
       "      <td>0</td>\n",
       "    </tr>\n",
       "    <tr>\n",
       "      <th>1</th>\n",
       "      <td>2021-03-26 09:15:50</td>\n",
       "      <td>14489.60</td>\n",
       "      <td>0</td>\n",
       "    </tr>\n",
       "    <tr>\n",
       "      <th>2</th>\n",
       "      <td>2021-03-26 09:15:51</td>\n",
       "      <td>14490.35</td>\n",
       "      <td>0</td>\n",
       "    </tr>\n",
       "    <tr>\n",
       "      <th>3</th>\n",
       "      <td>2021-03-26 09:15:52</td>\n",
       "      <td>14492.20</td>\n",
       "      <td>0</td>\n",
       "    </tr>\n",
       "    <tr>\n",
       "      <th>4</th>\n",
       "      <td>2021-03-26 09:15:53</td>\n",
       "      <td>14493.95</td>\n",
       "      <td>0</td>\n",
       "    </tr>\n",
       "  </tbody>\n",
       "</table>\n",
       "</div>"
      ],
      "text/plain": [
       "            timestamp       ltp  volume\n",
       "0 2021-03-26 09:15:49  14487.70       0\n",
       "1 2021-03-26 09:15:50  14489.60       0\n",
       "2 2021-03-26 09:15:51  14490.35       0\n",
       "3 2021-03-26 09:15:52  14492.20       0\n",
       "4 2021-03-26 09:15:53  14493.95       0"
      ]
     },
     "execution_count": 127,
     "metadata": {},
     "output_type": "execute_result"
    }
   ],
   "source": [
    "# timestamp is treated as date_time here\n",
    "df_nifty_bank['timestamp'] = pd.to_datetime(df_nifty_bank['timestamp'])\n",
    "df_nifty_bank.head()"
   ]
  },
  {
   "cell_type": "code",
   "execution_count": 128,
   "metadata": {},
   "outputs": [],
   "source": [
    "# df_nifty_bank.timestamp.values[0]"
   ]
  },
  {
   "cell_type": "markdown",
   "metadata": {},
   "source": [
    "    Task:\n",
    "         - Present data in each seconds\n",
    "         - Generate OHLC for each minute\n",
    "         "
   ]
  },
  {
   "cell_type": "code",
   "execution_count": 129,
   "metadata": {},
   "outputs": [
    {
     "name": "stdout",
     "output_type": "stream",
     "text": [
      "Today date is:  2021-03-26\n"
     ]
    }
   ],
   "source": [
    "# Returns the current local date\n",
    "# today = date.today()\n",
    "today = '2021-03-26'\n",
    "print(\"Today date is: \", today)"
   ]
  },
  {
   "cell_type": "code",
   "execution_count": 130,
   "metadata": {},
   "outputs": [
    {
     "name": "stdout",
     "output_type": "stream",
     "text": [
      "Start time: 2021-03-26 09:15:00, End time: 2021-03-26 15:29:00\n"
     ]
    }
   ],
   "source": [
    "start_time = str(today)+' 09:15:00'\n",
    "end_time = str(today)+' 15:29:00'\n",
    "print('Start time: {0}, End time: {1}'.format(start_time, end_time))"
   ]
  },
  {
   "cell_type": "code",
   "execution_count": 131,
   "metadata": {},
   "outputs": [
    {
     "name": "stdout",
     "output_type": "stream",
     "text": [
      "Length of Minutes data:  375\n"
     ]
    }
   ],
   "source": [
    "# create minute-wise timestamp\n",
    "time_bin_1_min = pd.date_range(start=start_time, end = end_time, freq='1min')\n",
    "print('Length of Minutes data: ', len(time_bin_1_min))"
   ]
  },
  {
   "cell_type": "code",
   "execution_count": 132,
   "metadata": {},
   "outputs": [],
   "source": [
    "# Create the data frame\n",
    "required_columns = ['Date', 'Open', 'High', 'Low', 'Close', 'Volume']\n",
    "df_minute_data = pd.DataFrame(columns=required_columns)\n",
    "df_minute_data.head()\n",
    "\n",
    "# Create empty lists to store data\n",
    "date, open_, high, low, close, volume = [], [], [], [], [], []\n",
    "\n",
    "for x in range(len(time_bin_1_min)-1):\n",
    "    # Collect all LTP data for this minute\n",
    "    start_minute = time_bin_1_min[x]\n",
    "    end_minute = time_bin_1_min[x+1]\n",
    "#     print('Time Range: {0} to {1}'.format(start_minute, end_minute))\n",
    "    \n",
    "    # Create the mask\n",
    "    mask = ((df_nifty_bank['timestamp'] >= start_minute) & (df_nifty_bank['timestamp'] < end_minute))\n",
    "    \n",
    "    df_temp = df_nifty_bank.loc[mask]\n",
    "    temp_open = df_temp.ltp.values[0]\n",
    "    temp_low = min(df_temp.ltp.values)\n",
    "    temp_high = max(df_temp.ltp.values)\n",
    "    temp_close = df_temp.ltp.values[-1]\n",
    "    temp_volume = np.mean(df_temp.volume.values)\n",
    "#     print('Open, High, Low, Close: ', temp_open, temp_high, temp_low, temp_close)\n",
    "    date.append(start_minute)\n",
    "    open_.append(temp_open)\n",
    "    high.append(temp_high)\n",
    "    low.append(temp_low)\n",
    "    close.append(temp_close)\n",
    "    volume.append(temp_volume)\n",
    "    \n",
    "df_minute_data.Date = date\n",
    "df_minute_data.Open = open_\n",
    "df_minute_data.High = high\n",
    "df_minute_data.Low = low\n",
    "df_minute_data.Close = close\n",
    "df_minute_data.Volume = volume"
   ]
  },
  {
   "cell_type": "code",
   "execution_count": 133,
   "metadata": {},
   "outputs": [
    {
     "data": {
      "text/html": [
       "<div>\n",
       "<style scoped>\n",
       "    .dataframe tbody tr th:only-of-type {\n",
       "        vertical-align: middle;\n",
       "    }\n",
       "\n",
       "    .dataframe tbody tr th {\n",
       "        vertical-align: top;\n",
       "    }\n",
       "\n",
       "    .dataframe thead th {\n",
       "        text-align: right;\n",
       "    }\n",
       "</style>\n",
       "<table border=\"1\" class=\"dataframe\">\n",
       "  <thead>\n",
       "    <tr style=\"text-align: right;\">\n",
       "      <th></th>\n",
       "      <th>Open</th>\n",
       "      <th>High</th>\n",
       "      <th>Low</th>\n",
       "      <th>Close</th>\n",
       "      <th>Volume</th>\n",
       "    </tr>\n",
       "  </thead>\n",
       "  <tbody>\n",
       "    <tr>\n",
       "      <th>count</th>\n",
       "      <td>374.000000</td>\n",
       "      <td>374.00000</td>\n",
       "      <td>374.000000</td>\n",
       "      <td>374.000000</td>\n",
       "      <td>374.0</td>\n",
       "    </tr>\n",
       "    <tr>\n",
       "      <th>mean</th>\n",
       "      <td>14508.464973</td>\n",
       "      <td>14513.25762</td>\n",
       "      <td>14503.904144</td>\n",
       "      <td>14508.375267</td>\n",
       "      <td>0.0</td>\n",
       "    </tr>\n",
       "    <tr>\n",
       "      <th>std</th>\n",
       "      <td>33.371092</td>\n",
       "      <td>32.47818</td>\n",
       "      <td>33.687727</td>\n",
       "      <td>33.204302</td>\n",
       "      <td>0.0</td>\n",
       "    </tr>\n",
       "    <tr>\n",
       "      <th>min</th>\n",
       "      <td>14419.850000</td>\n",
       "      <td>14426.55000</td>\n",
       "      <td>14415.350000</td>\n",
       "      <td>14420.150000</td>\n",
       "      <td>0.0</td>\n",
       "    </tr>\n",
       "    <tr>\n",
       "      <th>25%</th>\n",
       "      <td>14482.612500</td>\n",
       "      <td>14486.02500</td>\n",
       "      <td>14478.575000</td>\n",
       "      <td>14482.637500</td>\n",
       "      <td>0.0</td>\n",
       "    </tr>\n",
       "    <tr>\n",
       "      <th>50%</th>\n",
       "      <td>14518.725000</td>\n",
       "      <td>14523.07500</td>\n",
       "      <td>14514.600000</td>\n",
       "      <td>14517.775000</td>\n",
       "      <td>0.0</td>\n",
       "    </tr>\n",
       "    <tr>\n",
       "      <th>75%</th>\n",
       "      <td>14534.987500</td>\n",
       "      <td>14538.43750</td>\n",
       "      <td>14529.975000</td>\n",
       "      <td>14535.000000</td>\n",
       "      <td>0.0</td>\n",
       "    </tr>\n",
       "    <tr>\n",
       "      <th>max</th>\n",
       "      <td>14566.550000</td>\n",
       "      <td>14572.65000</td>\n",
       "      <td>14562.950000</td>\n",
       "      <td>14567.200000</td>\n",
       "      <td>0.0</td>\n",
       "    </tr>\n",
       "  </tbody>\n",
       "</table>\n",
       "</div>"
      ],
      "text/plain": [
       "               Open         High           Low         Close  Volume\n",
       "count    374.000000    374.00000    374.000000    374.000000   374.0\n",
       "mean   14508.464973  14513.25762  14503.904144  14508.375267     0.0\n",
       "std       33.371092     32.47818     33.687727     33.204302     0.0\n",
       "min    14419.850000  14426.55000  14415.350000  14420.150000     0.0\n",
       "25%    14482.612500  14486.02500  14478.575000  14482.637500     0.0\n",
       "50%    14518.725000  14523.07500  14514.600000  14517.775000     0.0\n",
       "75%    14534.987500  14538.43750  14529.975000  14535.000000     0.0\n",
       "max    14566.550000  14572.65000  14562.950000  14567.200000     0.0"
      ]
     },
     "execution_count": 133,
     "metadata": {},
     "output_type": "execute_result"
    }
   ],
   "source": [
    "df_minute_data.describe()"
   ]
  },
  {
   "cell_type": "code",
   "execution_count": 134,
   "metadata": {},
   "outputs": [
    {
     "data": {
      "text/html": [
       "<div>\n",
       "<style scoped>\n",
       "    .dataframe tbody tr th:only-of-type {\n",
       "        vertical-align: middle;\n",
       "    }\n",
       "\n",
       "    .dataframe tbody tr th {\n",
       "        vertical-align: top;\n",
       "    }\n",
       "\n",
       "    .dataframe thead th {\n",
       "        text-align: right;\n",
       "    }\n",
       "</style>\n",
       "<table border=\"1\" class=\"dataframe\">\n",
       "  <thead>\n",
       "    <tr style=\"text-align: right;\">\n",
       "      <th></th>\n",
       "      <th>Date</th>\n",
       "      <th>Open</th>\n",
       "      <th>High</th>\n",
       "      <th>Low</th>\n",
       "      <th>Close</th>\n",
       "      <th>Volume</th>\n",
       "    </tr>\n",
       "  </thead>\n",
       "  <tbody>\n",
       "    <tr>\n",
       "      <th>0</th>\n",
       "      <td>2021-03-26 09:15:00</td>\n",
       "      <td>14487.70</td>\n",
       "      <td>14496.2</td>\n",
       "      <td>14487.70</td>\n",
       "      <td>14493.25</td>\n",
       "      <td>0.0</td>\n",
       "    </tr>\n",
       "    <tr>\n",
       "      <th>1</th>\n",
       "      <td>2021-03-26 09:16:00</td>\n",
       "      <td>14494.10</td>\n",
       "      <td>14494.1</td>\n",
       "      <td>14461.25</td>\n",
       "      <td>14468.90</td>\n",
       "      <td>0.0</td>\n",
       "    </tr>\n",
       "    <tr>\n",
       "      <th>2</th>\n",
       "      <td>2021-03-26 09:17:00</td>\n",
       "      <td>14468.40</td>\n",
       "      <td>14474.7</td>\n",
       "      <td>14458.65</td>\n",
       "      <td>14464.30</td>\n",
       "      <td>0.0</td>\n",
       "    </tr>\n",
       "    <tr>\n",
       "      <th>3</th>\n",
       "      <td>2021-03-26 09:18:00</td>\n",
       "      <td>14464.60</td>\n",
       "      <td>14487.7</td>\n",
       "      <td>14464.60</td>\n",
       "      <td>14482.75</td>\n",
       "      <td>0.0</td>\n",
       "    </tr>\n",
       "    <tr>\n",
       "      <th>4</th>\n",
       "      <td>2021-03-26 09:19:00</td>\n",
       "      <td>14481.25</td>\n",
       "      <td>14483.2</td>\n",
       "      <td>14461.45</td>\n",
       "      <td>14462.55</td>\n",
       "      <td>0.0</td>\n",
       "    </tr>\n",
       "  </tbody>\n",
       "</table>\n",
       "</div>"
      ],
      "text/plain": [
       "                 Date      Open     High       Low     Close  Volume\n",
       "0 2021-03-26 09:15:00  14487.70  14496.2  14487.70  14493.25     0.0\n",
       "1 2021-03-26 09:16:00  14494.10  14494.1  14461.25  14468.90     0.0\n",
       "2 2021-03-26 09:17:00  14468.40  14474.7  14458.65  14464.30     0.0\n",
       "3 2021-03-26 09:18:00  14464.60  14487.7  14464.60  14482.75     0.0\n",
       "4 2021-03-26 09:19:00  14481.25  14483.2  14461.45  14462.55     0.0"
      ]
     },
     "execution_count": 134,
     "metadata": {},
     "output_type": "execute_result"
    }
   ],
   "source": [
    "df_minute_data.head()"
   ]
  },
  {
   "cell_type": "code",
   "execution_count": 135,
   "metadata": {},
   "outputs": [
    {
     "data": {
      "text/html": [
       "<div>\n",
       "<style scoped>\n",
       "    .dataframe tbody tr th:only-of-type {\n",
       "        vertical-align: middle;\n",
       "    }\n",
       "\n",
       "    .dataframe tbody tr th {\n",
       "        vertical-align: top;\n",
       "    }\n",
       "\n",
       "    .dataframe thead th {\n",
       "        text-align: right;\n",
       "    }\n",
       "</style>\n",
       "<table border=\"1\" class=\"dataframe\">\n",
       "  <thead>\n",
       "    <tr style=\"text-align: right;\">\n",
       "      <th></th>\n",
       "      <th>Date</th>\n",
       "      <th>Open</th>\n",
       "      <th>High</th>\n",
       "      <th>Low</th>\n",
       "      <th>Close</th>\n",
       "      <th>Volume</th>\n",
       "    </tr>\n",
       "  </thead>\n",
       "  <tbody>\n",
       "    <tr>\n",
       "      <th>369</th>\n",
       "      <td>2021-03-26 15:24:00</td>\n",
       "      <td>14524.45</td>\n",
       "      <td>14530.55</td>\n",
       "      <td>14520.40</td>\n",
       "      <td>14522.65</td>\n",
       "      <td>0.0</td>\n",
       "    </tr>\n",
       "    <tr>\n",
       "      <th>370</th>\n",
       "      <td>2021-03-26 15:25:00</td>\n",
       "      <td>14523.00</td>\n",
       "      <td>14528.10</td>\n",
       "      <td>14520.75</td>\n",
       "      <td>14528.10</td>\n",
       "      <td>0.0</td>\n",
       "    </tr>\n",
       "    <tr>\n",
       "      <th>371</th>\n",
       "      <td>2021-03-26 15:26:00</td>\n",
       "      <td>14528.35</td>\n",
       "      <td>14537.30</td>\n",
       "      <td>14526.90</td>\n",
       "      <td>14530.35</td>\n",
       "      <td>0.0</td>\n",
       "    </tr>\n",
       "    <tr>\n",
       "      <th>372</th>\n",
       "      <td>2021-03-26 15:27:00</td>\n",
       "      <td>14532.50</td>\n",
       "      <td>14532.85</td>\n",
       "      <td>14526.50</td>\n",
       "      <td>14528.10</td>\n",
       "      <td>0.0</td>\n",
       "    </tr>\n",
       "    <tr>\n",
       "      <th>373</th>\n",
       "      <td>2021-03-26 15:28:00</td>\n",
       "      <td>14528.70</td>\n",
       "      <td>14530.05</td>\n",
       "      <td>14522.70</td>\n",
       "      <td>14524.45</td>\n",
       "      <td>0.0</td>\n",
       "    </tr>\n",
       "  </tbody>\n",
       "</table>\n",
       "</div>"
      ],
      "text/plain": [
       "                   Date      Open      High       Low     Close  Volume\n",
       "369 2021-03-26 15:24:00  14524.45  14530.55  14520.40  14522.65     0.0\n",
       "370 2021-03-26 15:25:00  14523.00  14528.10  14520.75  14528.10     0.0\n",
       "371 2021-03-26 15:26:00  14528.35  14537.30  14526.90  14530.35     0.0\n",
       "372 2021-03-26 15:27:00  14532.50  14532.85  14526.50  14528.10     0.0\n",
       "373 2021-03-26 15:28:00  14528.70  14530.05  14522.70  14524.45     0.0"
      ]
     },
     "execution_count": 135,
     "metadata": {},
     "output_type": "execute_result"
    }
   ],
   "source": [
    "df_minute_data.tail()"
   ]
  },
  {
   "cell_type": "code",
   "execution_count": 137,
   "metadata": {},
   "outputs": [],
   "source": [
    "# Save per minute data to disk\n",
    "\n",
    "# df_minute_data.to_csv('/home/debashis/Data/Finance_Data/Live_data_work/Minutes_data/'+str(today)+'_per_minutes_NIFTY_.csv',\n",
    "#                       index=False)"
   ]
  },
  {
   "cell_type": "code",
   "execution_count": null,
   "metadata": {},
   "outputs": [],
   "source": []
  },
  {
   "cell_type": "code",
   "execution_count": null,
   "metadata": {},
   "outputs": [],
   "source": []
  }
 ],
 "metadata": {
  "kernelspec": {
   "display_name": "Python 3",
   "language": "python",
   "name": "python3"
  },
  "language_info": {
   "codemirror_mode": {
    "name": "ipython",
    "version": 3
   },
   "file_extension": ".py",
   "mimetype": "text/x-python",
   "name": "python",
   "nbconvert_exporter": "python",
   "pygments_lexer": "ipython3",
   "version": "3.6.9"
  }
 },
 "nbformat": 4,
 "nbformat_minor": 2
}
